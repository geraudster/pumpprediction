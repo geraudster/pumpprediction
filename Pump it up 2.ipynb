{
 "cells": [
  {
   "cell_type": "code",
   "execution_count": 17,
   "metadata": {
    "collapsed": false
   },
   "outputs": [
    {
     "name": "stdout",
     "output_type": "stream",
     "text": [
      "\n",
      "H2O is not running yet, starting it now...\n",
      "\n",
      "Note:  In case of errors look at the following log files:\n",
      "    /tmp/Rtmp8Xw9Rw/h2o_admin_started_from_r.out\n",
      "    /tmp/Rtmp8Xw9Rw/h2o_admin_started_from_r.err\n",
      "\n",
      "\n",
      "..Successfully connected to http://127.0.0.1:54321/ \n",
      "\n",
      "R is connected to the H2O cluster: \n",
      "    H2O cluster uptime:         1 seconds 643 milliseconds \n",
      "    H2O cluster version:        3.6.0.8 \n",
      "    H2O cluster name:           H2O_started_from_R_admin_klv352 \n",
      "    H2O cluster total nodes:    1 \n",
      "    H2O cluster total memory:   9.58 GB \n",
      "    H2O cluster total cores:    4 \n",
      "    H2O cluster allowed cores:  4 \n",
      "    H2O cluster healthy:        TRUE \n",
      "\n"
     ]
    }
   ],
   "source": [
    "library(h2o)\n",
    "localH2O <- h2o.init(min_mem_size = '10G', nthreads = 4)"
   ]
  },
  {
   "cell_type": "code",
   "execution_count": 18,
   "metadata": {
    "collapsed": false
   },
   "outputs": [
    {
     "name": "stdout",
     "output_type": "stream",
     "text": [
      "  |======================================================================| 100%\n",
      "  |======================================================================| 100%\n"
     ]
    }
   ],
   "source": [
    "trainset.hex <- h2o.uploadFile(path = 'trainset_values.csv', destination_frame = 'trainset.hex', sep = ',', header = TRUE)\n",
    "labels.hex <- h2o.uploadFile(path = 'trainset_labels.csv', destination_frame = 'labels.hex', sep = ',', header = TRUE)\n",
    "\n",
    "trainsetFull.hex <- h2o.merge(trainset.hex, labels.hex)\n",
    "trainsetFull.split <- h2o.splitFrame(trainsetFull.hex)\n",
    "\n",
    "allVariables <- colnames(trainsetFull.hex)\n",
    "predictors <- colnames(trainsetFull.hex)[!(allVariables \n",
    "                                           %in% c('id', 'wpt_name', 'subvillage', 'scheme_name', 'installer', 'funder',\n",
    "                                                  'status_group', 'ward_lga'))]"
   ]
  },
  {
   "cell_type": "code",
   "execution_count": 19,
   "metadata": {
    "collapsed": false
   },
   "outputs": [
    {
     "data": {
      "text/html": [
       "<table>\n",
       "<thead><tr><th></th><th scope=col>id</th><th scope=col>amount_tsh</th><th scope=col>date_recorded</th><th scope=col>funder</th><th scope=col>gps_height</th><th scope=col>installer</th><th scope=col>longitude</th><th scope=col>latitude</th><th scope=col>wpt_name</th><th scope=col>num_private</th><th scope=col>ellip.h</th><th scope=col>quality_group</th><th scope=col>quantity</th><th scope=col>quantity_group</th><th scope=col>source</th><th scope=col>source_type</th><th scope=col>source_class</th><th scope=col>waterpoint_type</th><th scope=col>waterpoint_type_group</th><th scope=col>status_group</th><th scope=col>merged_status</th></tr></thead>\n",
       "<tbody>\n",
       "\t<tr><th scope=row>1</th><td>69572</td><td>6000</td><td>1.300061e+12</td><td>Roman</td><td>1390</td><td>Roman</td><td>34.93809</td><td>-9.856322</td><td>none</td><td>0</td><td>⋯</td><td>good</td><td>enough</td><td>enough</td><td>spring</td><td>spring</td><td>groundwater</td><td>communal standpipe</td><td>communal standpipe</td><td>functional</td><td>functional</td></tr>\n",
       "\t<tr><th scope=row>2</th><td>34310</td><td>25</td><td>1.36175e+12</td><td>Lottery Club</td><td>686</td><td>World vision</td><td>37.46066</td><td>-3.821329</td><td>Kwa Mahundi</td><td>0</td><td>⋯</td><td>good</td><td>enough</td><td>enough</td><td>dam</td><td>dam</td><td>surface</td><td>communal standpipe multiple</td><td>communal standpipe</td><td>functional</td><td>functional</td></tr>\n",
       "\t<tr><th scope=row>3</th><td>67743</td><td>0</td><td>1.359331e+12</td><td>Unicef</td><td>263</td><td>UNICEF</td><td>38.48616</td><td>-11.1553</td><td>Zahanati Ya Nanyumbu</td><td>0</td><td>⋯</td><td>good</td><td>dry</td><td>dry</td><td>machine dbh</td><td>borehole</td><td>groundwater</td><td>communal standpipe multiple</td><td>communal standpipe</td><td>non functional</td><td>non functional</td></tr>\n",
       "\t<tr><th scope=row>4</th><td>19728</td><td>0</td><td>1.310515e+12</td><td>Action In A</td><td>0</td><td>Artisan</td><td>31.13085</td><td>-1.825359</td><td>Shuleni</td><td>0</td><td>⋯</td><td>good</td><td>seasonal</td><td>seasonal</td><td>rainwater harvesting</td><td>rainwater harvesting</td><td>surface</td><td>communal standpipe</td><td>communal standpipe</td><td>functional</td><td>functional</td></tr>\n",
       "\t<tr><th scope=row>5</th><td>9944</td><td>20</td><td>1.299974e+12</td><td>Mkinga Distric Coun</td><td>0</td><td>DWE</td><td>39.1728</td><td>-4.765587</td><td>Tajiri</td><td>0</td><td>⋯</td><td>salty</td><td>enough</td><td>enough</td><td>other</td><td>other</td><td>unknown</td><td>communal standpipe multiple</td><td>communal standpipe</td><td>functional</td><td>functional</td></tr>\n",
       "\t<tr><th scope=row>6</th><td>19816</td><td>0</td><td>1.34905e+12</td><td>Dwsp</td><td>0</td><td>DWSP</td><td>33.36241</td><td>-3.766365</td><td>Kwa Ngomho</td><td>0</td><td>⋯</td><td>good</td><td>enough</td><td>enough</td><td>machine dbh</td><td>borehole</td><td>groundwater</td><td>hand pump</td><td>hand pump</td><td>non functional</td><td>non functional</td></tr>\n",
       "</tbody>\n",
       "</table>\n"
      ],
      "text/latex": [
       "\\begin{tabular}{r|llllllllllllllllllllllllllllllllllllllllll}\n",
       "  & id & amount_tsh & date_recorded & funder & gps_height & installer & longitude & latitude & wpt_name & num_private & ellip.h & quality_group & quantity & quantity_group & source & source_type & source_class & waterpoint_type & waterpoint_type_group & status_group & merged_status\\\\\n",
       "\\hline\n",
       "\t1 & 69572 & 6000 & 1.300061e+12 & Roman & 1390 & Roman & 34.93809 & -9.856322 & none & 0 & ⋯ & good & enough & enough & spring & spring & groundwater & communal standpipe & communal standpipe & functional & functional\\\\\n",
       "\t2 & 34310 & 25 & 1.36175e+12 & Lottery Club & 686 & World vision & 37.46066 & -3.821329 & Kwa Mahundi & 0 & ⋯ & good & enough & enough & dam & dam & surface & communal standpipe multiple & communal standpipe & functional & functional\\\\\n",
       "\t3 & 67743 & 0 & 1.359331e+12 & Unicef & 263 & UNICEF & 38.48616 & -11.1553 & Zahanati Ya Nanyumbu & 0 & ⋯ & good & dry & dry & machine dbh & borehole & groundwater & communal standpipe multiple & communal standpipe & non functional & non functional\\\\\n",
       "\t4 & 19728 & 0 & 1.310515e+12 & Action In A & 0 & Artisan & 31.13085 & -1.825359 & Shuleni & 0 & ⋯ & good & seasonal & seasonal & rainwater harvesting & rainwater harvesting & surface & communal standpipe & communal standpipe & functional & functional\\\\\n",
       "\t5 & 9944 & 20 & 1.299974e+12 & Mkinga Distric Coun & 0 & DWE & 39.1728 & -4.765587 & Tajiri & 0 & ⋯ & salty & enough & enough & other & other & unknown & communal standpipe multiple & communal standpipe & functional & functional\\\\\n",
       "\t6 & 19816 & 0 & 1.34905e+12 & Dwsp & 0 & DWSP & 33.36241 & -3.766365 & Kwa Ngomho & 0 & ⋯ & good & enough & enough & machine dbh & borehole & groundwater & hand pump & hand pump & non functional & non functional\\\\\n",
       "\\end{tabular}\n"
      ],
      "text/plain": [
       "     id amount_tsh date_recorded              funder gps_height    installer\n",
       "1 69572       6000  1.300061e+12               Roman       1390        Roman\n",
       "2 34310         25  1.361750e+12        Lottery Club        686 World vision\n",
       "3 67743          0  1.359331e+12              Unicef        263       UNICEF\n",
       "4 19728          0  1.310515e+12         Action In A          0      Artisan\n",
       "5  9944         20  1.299974e+12 Mkinga Distric Coun          0          DWE\n",
       "6 19816          0  1.349050e+12                Dwsp          0         DWSP\n",
       "  longitude   latitude             wpt_name num_private                   basin\n",
       "1  34.93809  -9.856322                 none           0              Lake Nyasa\n",
       "2  37.46066  -3.821329          Kwa Mahundi           0                 Pangani\n",
       "3  38.48616 -11.155298 Zahanati Ya Nanyumbu           0 Ruvuma / Southern Coast\n",
       "4  31.13085  -1.825359              Shuleni           0           Lake Victoria\n",
       "5  39.17280  -4.765587               Tajiri           0                 Pangani\n",
       "6  33.36241  -3.766365           Kwa Ngomho           0                Internal\n",
       "     subvillage    region region_code district_code             lga       ward\n",
       "1      Mnyusi B    Iringa          11             5          Ludewa   Mundindi\n",
       "2       Majengo   Manyara          21             4       Simanjiro    Ngorika\n",
       "3    Mahakamani    Mtwara          90            63        Nanyumbu   Nanyumbu\n",
       "4    Kyanyamisa    Kagera          18             1         Karagwe Nyakasimbi\n",
       "5   Moa/Mwereme     Tanga           4             8          Mkinga        Moa\n",
       "6 Ishinabulandi Shinyanga          17             3 Shinyanga Rural     Samuye\n",
       "  population public_meeting             recorded_by scheme_management\n",
       "1        109           True GeoData Consultants Ltd               VWC\n",
       "2        250           True GeoData Consultants Ltd               VWC\n",
       "3         58           True GeoData Consultants Ltd               VWC\n",
       "4          0           True GeoData Consultants Ltd              <NA>\n",
       "5          1           True GeoData Consultants Ltd               VWC\n",
       "6          0           True GeoData Consultants Ltd               VWC\n",
       "                  scheme_name permit construction_year extraction_type\n",
       "1                       Roman  False              1999         gravity\n",
       "2 Nyumba ya mungu pipe scheme   True              2009         gravity\n",
       "3                        <NA>   True              1986     submersible\n",
       "4                        <NA>   True                 0         gravity\n",
       "5                   Zingibali   True              2009     submersible\n",
       "6                        <NA>   True                 0          swn 80\n",
       "  extraction_type_group extraction_type_class management management_group\n",
       "1               gravity               gravity        vwc       user-group\n",
       "2               gravity               gravity        vwc       user-group\n",
       "3           submersible           submersible        vwc       user-group\n",
       "4               gravity               gravity      other            other\n",
       "5           submersible           submersible        vwc       user-group\n",
       "6                swn 80              handpump        vwc       user-group\n",
       "         payment payment_type water_quality quality_group quantity\n",
       "1   pay annually     annually          soft          good   enough\n",
       "2 pay per bucket   per bucket          soft          good   enough\n",
       "3      never pay    never pay          soft          good      dry\n",
       "4      never pay    never pay          soft          good seasonal\n",
       "5 pay per bucket   per bucket         salty         salty   enough\n",
       "6      never pay    never pay          soft          good   enough\n",
       "  quantity_group               source          source_type source_class\n",
       "1         enough               spring               spring  groundwater\n",
       "2         enough                  dam                  dam      surface\n",
       "3            dry          machine dbh             borehole  groundwater\n",
       "4       seasonal rainwater harvesting rainwater harvesting      surface\n",
       "5         enough                other                other      unknown\n",
       "6         enough          machine dbh             borehole  groundwater\n",
       "              waterpoint_type waterpoint_type_group   status_group\n",
       "1          communal standpipe    communal standpipe     functional\n",
       "2 communal standpipe multiple    communal standpipe     functional\n",
       "3 communal standpipe multiple    communal standpipe non functional\n",
       "4          communal standpipe    communal standpipe     functional\n",
       "5 communal standpipe multiple    communal standpipe     functional\n",
       "6                   hand pump             hand pump non functional\n",
       "   merged_status\n",
       "1     functional\n",
       "2     functional\n",
       "3 non functional\n",
       "4     functional\n",
       "5     functional\n",
       "6 non functional"
      ]
     },
     "execution_count": 19,
     "metadata": {},
     "output_type": "execute_result"
    }
   ],
   "source": [
    "training <- trainsetFull.split[[1]]\n",
    "training$merged_status <- h2o.ifelse(training$status_group %in% c('functional', 'functional needs repair'),\n",
    "                                    'functional', 'non functional')\n",
    "head(training)"
   ]
  },
  {
   "cell_type": "code",
   "execution_count": 20,
   "metadata": {
    "collapsed": false
   },
   "outputs": [
    {
     "data": {
      "text/plain": [
       "\n",
       "    functional non functional \n",
       "         27385          17116 "
      ]
     },
     "execution_count": 20,
     "metadata": {},
     "output_type": "execute_result"
    }
   ],
   "source": [
    "table(as.vector(training$merged_status))"
   ]
  },
  {
   "cell_type": "code",
   "execution_count": 22,
   "metadata": {
    "collapsed": false
   },
   "outputs": [
    {
     "name": "stderr",
     "output_type": "stream",
     "text": [
      "Warning message:\n",
      "In .h2o.validateModelParameters(algo, param_values, h2oRestApiVersion): Dropping constant columns: recorded_by.\n"
     ]
    },
    {
     "name": "stdout",
     "output_type": "stream",
     "text": [
      "  |======================================================================| 100%\n",
      "Model Details:\n",
      "==============\n",
      "\n",
      "H2OBinomialModel: drf\n",
      "Model Key:  DRF_model_R_1452268832167_5 \n",
      "Model Summary: \n",
      "  number_of_trees model_size_in_bytes min_depth max_depth mean_depth min_leaves\n",
      "1              50             1962420        20        20   20.00000       2566\n",
      "  max_leaves mean_leaves\n",
      "1       3316  3080.76000\n",
      "\n",
      "H2OBinomialMetrics: drf\n",
      "** Reported on training data. **\n",
      "Description: Metrics reported on Out-Of-Bag training samples\n",
      "\n",
      "MSE:  0.1113366\n",
      "R^2:  0.5296053\n",
      "LogLoss:  0.370817\n",
      "AUC:  0.9141627\n",
      "Gini:  0.8283254\n",
      "\n",
      "Confusion Matrix for F1-optimal threshold:\n",
      "               non functional functional    Error         Rate\n",
      "non functional          11783       5333 0.311580  =5333/17116\n",
      "functional               1421      25964 0.051890  =1421/27385\n",
      "Totals                  13204      31297 0.151772  =6754/44501\n",
      "\n",
      "Maximum Metrics: Maximum metrics at their respective thresholds\n",
      "                      metric threshold    value idx\n",
      "1                     max f1  0.532739 0.884905 228\n",
      "2                     max f2  0.337597 0.936849 287\n",
      "3               max f0point5  0.753283 0.875740 143\n",
      "4               max accuracy  0.592980 0.850430 208\n",
      "5              max precision  0.998002 0.989818   2\n",
      "6           max absolute_MCC  0.568608 0.680375 217\n",
      "7 max min_per_class_accuracy  0.720792 0.829867 157\n",
      "\n",
      "\n",
      "Scoring History: \n",
      "             timestamp   duration number_of_trees training_MSE training_logloss\n",
      "1  2016-01-08 16:03:17  1.132 sec               1      0.17064          4.20669\n",
      "2  2016-01-08 16:03:17  1.428 sec               2      0.15750          3.41878\n",
      "3  2016-01-08 16:03:18  1.660 sec               3      0.15411          2.99315\n",
      "4  2016-01-08 16:03:18  1.858 sec               4      0.14774          2.57478\n",
      "5  2016-01-08 16:03:18  2.065 sec               5      0.14450          2.21506\n",
      "6  2016-01-08 16:03:18  2.260 sec               6      0.13972          1.89879\n",
      "7  2016-01-08 16:03:18  2.446 sec               7      0.13611          1.63213\n",
      "8  2016-01-08 16:03:19  2.622 sec               8      0.13272          1.37012\n",
      "9  2016-01-08 16:03:19  2.816 sec               9      0.12990          1.19729\n",
      "10 2016-01-08 16:03:19  3.001 sec              10      0.12770          1.05952\n",
      "11 2016-01-08 16:03:19  3.200 sec              11      0.12666          0.93341\n",
      "12 2016-01-08 16:03:19  3.420 sec              12      0.12473          0.83967\n",
      "13 2016-01-08 16:03:20  3.588 sec              13      0.12354          0.77996\n",
      "14 2016-01-08 16:03:20  3.792 sec              14      0.12283          0.72318\n",
      "15 2016-01-08 16:03:20  4.011 sec              15      0.12157          0.66846\n",
      "16 2016-01-08 16:03:24  8.027 sec              46      0.11170          0.37343\n",
      "17 2016-01-08 16:03:25  8.590 sec              50      0.11134          0.37082\n",
      "   training_AUC training_classification_error\n",
      "1       0.80215                       0.19555\n",
      "2       0.82051                       0.18896\n",
      "3       0.82759                       0.19140\n",
      "4       0.84016                       0.18898\n",
      "5       0.84707                       0.18993\n",
      "6       0.85598                       0.18795\n",
      "7       0.86323                       0.18264\n",
      "8       0.87063                       0.18334\n",
      "9       0.87615                       0.17303\n",
      "10      0.88034                       0.17076\n",
      "11      0.88325                       0.16993\n",
      "12      0.88716                       0.16748\n",
      "13      0.88956                       0.16613\n",
      "14      0.89152                       0.16468\n",
      "15      0.89412                       0.16315\n",
      "16      0.91340                       0.15092\n",
      "17      0.91416                       0.15177\n",
      "\n",
      "Variable Importances: (Extract with `h2o.varimp`) \n",
      "=================================================\n",
      "\n",
      "Variable Importances: \n",
      "         variable relative_importance scaled_importance percentage\n",
      "1  quantity_group        37996.570312          1.000000   0.141293\n",
      "2             lga        31419.207031          0.826896   0.116834\n",
      "3        quantity        31324.371094          0.824400   0.116482\n",
      "4 extraction_type        17153.058594          0.451437   0.063785\n",
      "5            ward        13917.836914          0.366292   0.051754\n",
      "\n",
      "---\n",
      "         variable relative_importance scaled_importance percentage\n",
      "28    region_code         1769.092896          0.046559   0.006578\n",
      "29         permit         1546.518799          0.040702   0.005751\n",
      "30 public_meeting         1383.542480          0.036412   0.005145\n",
      "31     amount_tsh         1048.568726          0.027596   0.003899\n",
      "32   source_class          969.352478          0.025512   0.003605\n",
      "33    num_private          205.726517          0.005414   0.000765\n"
     ]
    }
   ],
   "source": [
    "modelRf <- h2o.randomForest(predictors, 'merged_status', training)\n",
    "summary(modelRf)"
   ]
  },
  {
   "cell_type": "code",
   "execution_count": 23,
   "metadata": {
    "collapsed": false
   },
   "outputs": [
    {
     "data": {
      "text/plain": [
       "H2OBinomialMetrics: drf\n",
       "\n",
       "MSE:  0.1078399\n",
       "R^2:  0.5437038\n",
       "LogLoss:  0.3499881\n",
       "AUC:  0.9193597\n",
       "Gini:  0.8387194\n",
       "\n",
       "Confusion Matrix for F1-optimal threshold:\n",
       "               non functional functional    Error         Rate\n",
       "non functional           4169       1539 0.269622   =1539/5708\n",
       "functional                582       8609 0.063323    =582/9191\n",
       "Totals                   4751      10148 0.142359  =2121/14899\n",
       "\n",
       "Maximum Metrics: Maximum metrics at their respective thresholds\n",
       "                      metric threshold    value idx\n",
       "1                     max f1  0.570296 0.890325 215\n",
       "2                     max f2  0.352007 0.938556 285\n",
       "3               max f0point5  0.763396 0.879687 134\n",
       "4               max accuracy  0.570296 0.857641 215\n",
       "5              max precision  0.997737 0.995086   2\n",
       "6           max absolute_MCC  0.570296 0.695829 215\n",
       "7 max min_per_class_accuracy  0.714485 0.834838 155"
      ]
     },
     "execution_count": 23,
     "metadata": {},
     "output_type": "execute_result"
    }
   ],
   "source": [
    "testing <- trainsetFull.split[[2]]\n",
    "testing$merged_status <- h2o.ifelse(testing$status_group %in% c('functional', 'functional needs repair'),\n",
    "                                    'functional', 'non functional')\n",
    "\n",
    "h2o.performance(modelRf, testing)"
   ]
  },
  {
   "cell_type": "code",
   "execution_count": 49,
   "metadata": {
    "collapsed": false
   },
   "outputs": [
    {
     "data": {
      "text/html": [
       "<table>\n",
       "<thead><tr><th></th><th scope=col>id</th><th scope=col>amount_tsh</th><th scope=col>date_recorded</th><th scope=col>funder</th><th scope=col>gps_height</th><th scope=col>installer</th><th scope=col>longitude</th><th scope=col>latitude</th><th scope=col>wpt_name</th><th scope=col>num_private</th><th scope=col>ellip.h</th><th scope=col>quantity</th><th scope=col>quantity_group</th><th scope=col>source</th><th scope=col>source_type</th><th scope=col>source_class</th><th scope=col>waterpoint_type</th><th scope=col>waterpoint_type_group</th><th scope=col>status_group</th><th scope=col>merged_status</th><th scope=col>predict</th></tr></thead>\n",
       "<tbody>\n",
       "\t<tr><th scope=row>1</th><td>69572</td><td>6000</td><td>1.300061e+12</td><td>Roman</td><td>1390</td><td>Roman</td><td>34.93809</td><td>-9.856322</td><td>none</td><td>0</td><td>⋯</td><td>enough</td><td>enough</td><td>spring</td><td>spring</td><td>groundwater</td><td>communal standpipe</td><td>communal standpipe</td><td>functional</td><td>functional</td><td>functional</td></tr>\n",
       "\t<tr><th scope=row>2</th><td>34310</td><td>25</td><td>1.36175e+12</td><td>Lottery Club</td><td>686</td><td>World vision</td><td>37.46066</td><td>-3.821329</td><td>Kwa Mahundi</td><td>0</td><td>⋯</td><td>enough</td><td>enough</td><td>dam</td><td>dam</td><td>surface</td><td>communal standpipe multiple</td><td>communal standpipe</td><td>functional</td><td>functional</td><td>functional</td></tr>\n",
       "\t<tr><th scope=row>3</th><td>67743</td><td>0</td><td>1.359331e+12</td><td>Unicef</td><td>263</td><td>UNICEF</td><td>38.48616</td><td>-11.1553</td><td>Zahanati Ya Nanyumbu</td><td>0</td><td>⋯</td><td>dry</td><td>dry</td><td>machine dbh</td><td>borehole</td><td>groundwater</td><td>communal standpipe multiple</td><td>communal standpipe</td><td>non functional</td><td>non functional</td><td>non functional</td></tr>\n",
       "\t<tr><th scope=row>4</th><td>19728</td><td>0</td><td>1.310515e+12</td><td>Action In A</td><td>0</td><td>Artisan</td><td>31.13085</td><td>-1.825359</td><td>Shuleni</td><td>0</td><td>⋯</td><td>seasonal</td><td>seasonal</td><td>rainwater harvesting</td><td>rainwater harvesting</td><td>surface</td><td>communal standpipe</td><td>communal standpipe</td><td>functional</td><td>functional</td><td>functional</td></tr>\n",
       "\t<tr><th scope=row>5</th><td>9944</td><td>20</td><td>1.299974e+12</td><td>Mkinga Distric Coun</td><td>0</td><td>DWE</td><td>39.1728</td><td>-4.765587</td><td>Tajiri</td><td>0</td><td>⋯</td><td>enough</td><td>enough</td><td>other</td><td>other</td><td>unknown</td><td>communal standpipe multiple</td><td>communal standpipe</td><td>functional</td><td>functional</td><td>functional</td></tr>\n",
       "\t<tr><th scope=row>6</th><td>19816</td><td>0</td><td>1.34905e+12</td><td>Dwsp</td><td>0</td><td>DWSP</td><td>33.36241</td><td>-3.766365</td><td>Kwa Ngomho</td><td>0</td><td>⋯</td><td>enough</td><td>enough</td><td>machine dbh</td><td>borehole</td><td>groundwater</td><td>hand pump</td><td>hand pump</td><td>non functional</td><td>non functional</td><td>non functional</td></tr>\n",
       "</tbody>\n",
       "</table>\n"
      ],
      "text/latex": [
       "\\begin{tabular}{r|lllllllllllllllllllllllllllllllllllllllllll}\n",
       "  & id & amount_tsh & date_recorded & funder & gps_height & installer & longitude & latitude & wpt_name & num_private & ellip.h & quantity & quantity_group & source & source_type & source_class & waterpoint_type & waterpoint_type_group & status_group & merged_status & predict\\\\\n",
       "\\hline\n",
       "\t1 & 69572 & 6000 & 1.300061e+12 & Roman & 1390 & Roman & 34.93809 & -9.856322 & none & 0 & ⋯ & enough & enough & spring & spring & groundwater & communal standpipe & communal standpipe & functional & functional & functional\\\\\n",
       "\t2 & 34310 & 25 & 1.36175e+12 & Lottery Club & 686 & World vision & 37.46066 & -3.821329 & Kwa Mahundi & 0 & ⋯ & enough & enough & dam & dam & surface & communal standpipe multiple & communal standpipe & functional & functional & functional\\\\\n",
       "\t3 & 67743 & 0 & 1.359331e+12 & Unicef & 263 & UNICEF & 38.48616 & -11.1553 & Zahanati Ya Nanyumbu & 0 & ⋯ & dry & dry & machine dbh & borehole & groundwater & communal standpipe multiple & communal standpipe & non functional & non functional & non functional\\\\\n",
       "\t4 & 19728 & 0 & 1.310515e+12 & Action In A & 0 & Artisan & 31.13085 & -1.825359 & Shuleni & 0 & ⋯ & seasonal & seasonal & rainwater harvesting & rainwater harvesting & surface & communal standpipe & communal standpipe & functional & functional & functional\\\\\n",
       "\t5 & 9944 & 20 & 1.299974e+12 & Mkinga Distric Coun & 0 & DWE & 39.1728 & -4.765587 & Tajiri & 0 & ⋯ & enough & enough & other & other & unknown & communal standpipe multiple & communal standpipe & functional & functional & functional\\\\\n",
       "\t6 & 19816 & 0 & 1.34905e+12 & Dwsp & 0 & DWSP & 33.36241 & -3.766365 & Kwa Ngomho & 0 & ⋯ & enough & enough & machine dbh & borehole & groundwater & hand pump & hand pump & non functional & non functional & non functional\\\\\n",
       "\\end{tabular}\n"
      ],
      "text/plain": [
       "     id amount_tsh date_recorded              funder gps_height    installer\n",
       "1 69572       6000  1.300061e+12               Roman       1390        Roman\n",
       "2 34310         25  1.361750e+12        Lottery Club        686 World vision\n",
       "3 67743          0  1.359331e+12              Unicef        263       UNICEF\n",
       "4 19728          0  1.310515e+12         Action In A          0      Artisan\n",
       "5  9944         20  1.299974e+12 Mkinga Distric Coun          0          DWE\n",
       "6 19816          0  1.349050e+12                Dwsp          0         DWSP\n",
       "  longitude   latitude             wpt_name num_private                   basin\n",
       "1  34.93809  -9.856322                 none           0              Lake Nyasa\n",
       "2  37.46066  -3.821329          Kwa Mahundi           0                 Pangani\n",
       "3  38.48616 -11.155298 Zahanati Ya Nanyumbu           0 Ruvuma / Southern Coast\n",
       "4  31.13085  -1.825359              Shuleni           0           Lake Victoria\n",
       "5  39.17280  -4.765587               Tajiri           0                 Pangani\n",
       "6  33.36241  -3.766365           Kwa Ngomho           0                Internal\n",
       "     subvillage    region region_code district_code             lga       ward\n",
       "1      Mnyusi B    Iringa          11             5          Ludewa   Mundindi\n",
       "2       Majengo   Manyara          21             4       Simanjiro    Ngorika\n",
       "3    Mahakamani    Mtwara          90            63        Nanyumbu   Nanyumbu\n",
       "4    Kyanyamisa    Kagera          18             1         Karagwe Nyakasimbi\n",
       "5   Moa/Mwereme     Tanga           4             8          Mkinga        Moa\n",
       "6 Ishinabulandi Shinyanga          17             3 Shinyanga Rural     Samuye\n",
       "  population public_meeting             recorded_by scheme_management\n",
       "1        109           True GeoData Consultants Ltd               VWC\n",
       "2        250           True GeoData Consultants Ltd               VWC\n",
       "3         58           True GeoData Consultants Ltd               VWC\n",
       "4          0           True GeoData Consultants Ltd              <NA>\n",
       "5          1           True GeoData Consultants Ltd               VWC\n",
       "6          0           True GeoData Consultants Ltd               VWC\n",
       "                  scheme_name permit construction_year extraction_type\n",
       "1                       Roman  False              1999         gravity\n",
       "2 Nyumba ya mungu pipe scheme   True              2009         gravity\n",
       "3                        <NA>   True              1986     submersible\n",
       "4                        <NA>   True                 0         gravity\n",
       "5                   Zingibali   True              2009     submersible\n",
       "6                        <NA>   True                 0          swn 80\n",
       "  extraction_type_group extraction_type_class management management_group\n",
       "1               gravity               gravity        vwc       user-group\n",
       "2               gravity               gravity        vwc       user-group\n",
       "3           submersible           submersible        vwc       user-group\n",
       "4               gravity               gravity      other            other\n",
       "5           submersible           submersible        vwc       user-group\n",
       "6                swn 80              handpump        vwc       user-group\n",
       "         payment payment_type water_quality quality_group quantity\n",
       "1   pay annually     annually          soft          good   enough\n",
       "2 pay per bucket   per bucket          soft          good   enough\n",
       "3      never pay    never pay          soft          good      dry\n",
       "4      never pay    never pay          soft          good seasonal\n",
       "5 pay per bucket   per bucket         salty         salty   enough\n",
       "6      never pay    never pay          soft          good   enough\n",
       "  quantity_group               source          source_type source_class\n",
       "1         enough               spring               spring  groundwater\n",
       "2         enough                  dam                  dam      surface\n",
       "3            dry          machine dbh             borehole  groundwater\n",
       "4       seasonal rainwater harvesting rainwater harvesting      surface\n",
       "5         enough                other                other      unknown\n",
       "6         enough          machine dbh             borehole  groundwater\n",
       "              waterpoint_type waterpoint_type_group   status_group\n",
       "1          communal standpipe    communal standpipe     functional\n",
       "2 communal standpipe multiple    communal standpipe     functional\n",
       "3 communal standpipe multiple    communal standpipe non functional\n",
       "4          communal standpipe    communal standpipe     functional\n",
       "5 communal standpipe multiple    communal standpipe     functional\n",
       "6                   hand pump             hand pump non functional\n",
       "   merged_status        predict\n",
       "1     functional     functional\n",
       "2     functional     functional\n",
       "3 non functional non functional\n",
       "4     functional     functional\n",
       "5     functional     functional\n",
       "6 non functional non functional"
      ]
     },
     "execution_count": 49,
     "metadata": {},
     "output_type": "execute_result"
    }
   ],
   "source": [
    "training.step1 <- h2o.cbind(training, as.factor(predict(modelRf, training)$predict))\n",
    "head(training.step1)"
   ]
  },
  {
   "cell_type": "code",
   "execution_count": 37,
   "metadata": {
    "collapsed": false
   },
   "outputs": [
    {
     "data": {
      "text/html": [
       "<table>\n",
       "<thead><tr><th></th><th scope=col>id</th><th scope=col>amount_tsh</th><th scope=col>date_recorded</th><th scope=col>funder</th><th scope=col>gps_height</th><th scope=col>installer</th><th scope=col>longitude</th><th scope=col>latitude</th><th scope=col>wpt_name</th><th scope=col>num_private</th><th scope=col>ellip.h</th><th scope=col>source</th><th scope=col>source_type</th><th scope=col>source_class</th><th scope=col>waterpoint_type</th><th scope=col>waterpoint_type_group</th><th scope=col>status_group</th><th scope=col>merged_status</th><th scope=col>predict</th><th scope=col>non functional</th><th scope=col>functional</th></tr></thead>\n",
       "<tbody>\n",
       "\t<tr><th scope=row>1</th><td>69572</td><td>6000</td><td>1.300061e+12</td><td>Roman</td><td>1390</td><td>Roman</td><td>34.93809</td><td>-9.856322</td><td>none</td><td>0</td><td>⋯</td><td>spring</td><td>spring</td><td>groundwater</td><td>communal standpipe</td><td>communal standpipe</td><td>functional</td><td>functional</td><td>functional</td><td>0.002361227</td><td>0.9976388</td></tr>\n",
       "\t<tr><th scope=row>2</th><td>34310</td><td>25</td><td>1.36175e+12</td><td>Lottery Club</td><td>686</td><td>World vision</td><td>37.46066</td><td>-3.821329</td><td>Kwa Mahundi</td><td>0</td><td>⋯</td><td>dam</td><td>dam</td><td>surface</td><td>communal standpipe multiple</td><td>communal standpipe</td><td>functional</td><td>functional</td><td>functional</td><td>0.0402252</td><td>0.9597748</td></tr>\n",
       "\t<tr><th scope=row>3</th><td>19728</td><td>0</td><td>1.310515e+12</td><td>Action In A</td><td>0</td><td>Artisan</td><td>31.13085</td><td>-1.825359</td><td>Shuleni</td><td>0</td><td>⋯</td><td>rainwater harvesting</td><td>rainwater harvesting</td><td>surface</td><td>communal standpipe</td><td>communal standpipe</td><td>functional</td><td>functional</td><td>functional</td><td>0.07403299</td><td>0.925967</td></tr>\n",
       "\t<tr><th scope=row>4</th><td>9944</td><td>20</td><td>1.299974e+12</td><td>Mkinga Distric Coun</td><td>0</td><td>DWE</td><td>39.1728</td><td>-4.765587</td><td>Tajiri</td><td>0</td><td>⋯</td><td>other</td><td>other</td><td>unknown</td><td>communal standpipe multiple</td><td>communal standpipe</td><td>functional</td><td>functional</td><td>functional</td><td>0.01870357</td><td>0.9812964</td></tr>\n",
       "\t<tr><th scope=row>5</th><td>54551</td><td>0</td><td>1.349741e+12</td><td>Rwssp</td><td>0</td><td>DWE</td><td>32.62062</td><td>-4.226198</td><td>Tushirikiane</td><td>0</td><td>⋯</td><td>shallow well</td><td>shallow well</td><td>groundwater</td><td>hand pump</td><td>hand pump</td><td>non functional</td><td>non functional</td><td>functional</td><td>0.3795639</td><td>0.6204361</td></tr>\n",
       "\t<tr><th scope=row>6</th><td>53934</td><td>0</td><td>1.351901e+12</td><td>Wateraid</td><td>0</td><td>Water Aid</td><td>32.7111</td><td>-5.146712</td><td>Kwa Ramadhan Musa</td><td>0</td><td>⋯</td><td>machine dbh</td><td>borehole</td><td>groundwater</td><td>hand pump</td><td>hand pump</td><td>non functional</td><td>non functional</td><td>functional</td><td>0.4267854</td><td>0.5732146</td></tr>\n",
       "</tbody>\n",
       "</table>\n"
      ],
      "text/latex": [
       "\\begin{tabular}{r|lllllllllllllllllllllllllllllllllllllllllllll}\n",
       "  & id & amount_tsh & date_recorded & funder & gps_height & installer & longitude & latitude & wpt_name & num_private & ellip.h & source & source_type & source_class & waterpoint_type & waterpoint_type_group & status_group & merged_status & predict & non functional & functional\\\\\n",
       "\\hline\n",
       "\t1 & 69572 & 6000 & 1.300061e+12 & Roman & 1390 & Roman & 34.93809 & -9.856322 & none & 0 & ⋯ & spring & spring & groundwater & communal standpipe & communal standpipe & functional & functional & functional & 0.002361227 & 0.9976388\\\\\n",
       "\t2 & 34310 & 25 & 1.36175e+12 & Lottery Club & 686 & World vision & 37.46066 & -3.821329 & Kwa Mahundi & 0 & ⋯ & dam & dam & surface & communal standpipe multiple & communal standpipe & functional & functional & functional & 0.0402252 & 0.9597748\\\\\n",
       "\t3 & 19728 & 0 & 1.310515e+12 & Action In A & 0 & Artisan & 31.13085 & -1.825359 & Shuleni & 0 & ⋯ & rainwater harvesting & rainwater harvesting & surface & communal standpipe & communal standpipe & functional & functional & functional & 0.07403299 & 0.925967\\\\\n",
       "\t4 & 9944 & 20 & 1.299974e+12 & Mkinga Distric Coun & 0 & DWE & 39.1728 & -4.765587 & Tajiri & 0 & ⋯ & other & other & unknown & communal standpipe multiple & communal standpipe & functional & functional & functional & 0.01870357 & 0.9812964\\\\\n",
       "\t5 & 54551 & 0 & 1.349741e+12 & Rwssp & 0 & DWE & 32.62062 & -4.226198 & Tushirikiane & 0 & ⋯ & shallow well & shallow well & groundwater & hand pump & hand pump & non functional & non functional & functional & 0.3795639 & 0.6204361\\\\\n",
       "\t6 & 53934 & 0 & 1.351901e+12 & Wateraid & 0 & Water Aid & 32.7111 & -5.146712 & Kwa Ramadhan Musa & 0 & ⋯ & machine dbh & borehole & groundwater & hand pump & hand pump & non functional & non functional & functional & 0.4267854 & 0.5732146\\\\\n",
       "\\end{tabular}\n"
      ],
      "text/plain": [
       "     id amount_tsh date_recorded              funder gps_height    installer\n",
       "1 69572       6000  1.300061e+12               Roman       1390        Roman\n",
       "2 34310         25  1.361750e+12        Lottery Club        686 World vision\n",
       "3 19728          0  1.310515e+12         Action In A          0      Artisan\n",
       "4  9944         20  1.299974e+12 Mkinga Distric Coun          0          DWE\n",
       "5 54551          0  1.349741e+12               Rwssp          0          DWE\n",
       "6 53934          0  1.351901e+12            Wateraid          0    Water Aid\n",
       "  longitude  latitude          wpt_name num_private           basin\n",
       "1  34.93809 -9.856322              none           0      Lake Nyasa\n",
       "2  37.46066 -3.821329       Kwa Mahundi           0         Pangani\n",
       "3  31.13085 -1.825359           Shuleni           0   Lake Victoria\n",
       "4  39.17280 -4.765587            Tajiri           0         Pangani\n",
       "5  32.62062 -4.226198      Tushirikiane           0 Lake Tanganyika\n",
       "6  32.71110 -5.146712 Kwa Ramadhan Musa           0 Lake Tanganyika\n",
       "       subvillage    region region_code district_code          lga       ward\n",
       "1        Mnyusi B    Iringa          11             5       Ludewa   Mundindi\n",
       "2         Majengo   Manyara          21             4    Simanjiro    Ngorika\n",
       "3      Kyanyamisa    Kagera          18             1      Karagwe Nyakasimbi\n",
       "4     Moa/Mwereme     Tanga           4             8       Mkinga        Moa\n",
       "5 Nyawishi Center Shinyanga          17             3       Kahama     Chambo\n",
       "6      Imalauduki    Tabora          14             6 Tabora Urban   Itetemia\n",
       "  population public_meeting             recorded_by scheme_management\n",
       "1        109           True GeoData Consultants Ltd               VWC\n",
       "2        250           True GeoData Consultants Ltd               VWC\n",
       "3          0           True GeoData Consultants Ltd              <NA>\n",
       "4          1           True GeoData Consultants Ltd               VWC\n",
       "5          0           True GeoData Consultants Ltd              <NA>\n",
       "6          0           True GeoData Consultants Ltd               VWC\n",
       "                  scheme_name permit construction_year extraction_type\n",
       "1                       Roman  False              1999         gravity\n",
       "2 Nyumba ya mungu pipe scheme   True              2009         gravity\n",
       "3                        <NA>   True                 0         gravity\n",
       "4                   Zingibali   True              2009     submersible\n",
       "5                        <NA>   True                 0     nira/tanira\n",
       "6                        <NA>   True                 0   india mark ii\n",
       "  extraction_type_group extraction_type_class management management_group\n",
       "1               gravity               gravity        vwc       user-group\n",
       "2               gravity               gravity        vwc       user-group\n",
       "3               gravity               gravity      other            other\n",
       "4           submersible           submersible        vwc       user-group\n",
       "5           nira/tanira              handpump        wug       user-group\n",
       "6         india mark ii              handpump        vwc       user-group\n",
       "         payment payment_type water_quality quality_group quantity\n",
       "1   pay annually     annually          soft          good   enough\n",
       "2 pay per bucket   per bucket          soft          good   enough\n",
       "3      never pay    never pay          soft          good seasonal\n",
       "4 pay per bucket   per bucket         salty         salty   enough\n",
       "5        unknown      unknown         milky         milky   enough\n",
       "6      never pay    never pay         salty         salty seasonal\n",
       "  quantity_group               source          source_type source_class\n",
       "1         enough               spring               spring  groundwater\n",
       "2         enough                  dam                  dam      surface\n",
       "3       seasonal rainwater harvesting rainwater harvesting      surface\n",
       "4         enough                other                other      unknown\n",
       "5         enough         shallow well         shallow well  groundwater\n",
       "6       seasonal          machine dbh             borehole  groundwater\n",
       "              waterpoint_type waterpoint_type_group   status_group\n",
       "1          communal standpipe    communal standpipe     functional\n",
       "2 communal standpipe multiple    communal standpipe     functional\n",
       "3          communal standpipe    communal standpipe     functional\n",
       "4 communal standpipe multiple    communal standpipe     functional\n",
       "5                   hand pump             hand pump non functional\n",
       "6                   hand pump             hand pump non functional\n",
       "   merged_status    predict non functional functional\n",
       "1     functional functional    0.002361227  0.9976388\n",
       "2     functional functional    0.040225200  0.9597748\n",
       "3     functional functional    0.074032986  0.9259670\n",
       "4     functional functional    0.018703570  0.9812964\n",
       "5 non functional functional    0.379563857  0.6204361\n",
       "6 non functional functional    0.426785436  0.5732146"
      ]
     },
     "execution_count": 37,
     "metadata": {},
     "output_type": "execute_result"
    }
   ],
   "source": [
    "training.functionalgroup <- training.step1[training.step1$predict == 'functional',]\n",
    "training.nonfunctionalgroup <- training.step1[training.step1$predict == 'non functional',]\n",
    "head(training.functionalgroup)"
   ]
  },
  {
   "cell_type": "code",
   "execution_count": 39,
   "metadata": {
    "collapsed": false
   },
   "outputs": [
    {
     "name": "stderr",
     "output_type": "stream",
     "text": [
      "Warning message:\n",
      "In .h2o.validateModelParameters(algo, param_values, h2oRestApiVersion): Dropping constant columns: recorded_by.\n"
     ]
    },
    {
     "name": "stdout",
     "output_type": "stream",
     "text": [
      "  |======================================================================| 100%\n",
      "Model Details:\n",
      "==============\n",
      "\n",
      "H2OMultinomialModel: drf\n",
      "Model Key:  DRF_model_R_1452268832167_35 \n",
      "Model Summary: \n",
      "  number_of_trees model_size_in_bytes min_depth max_depth mean_depth min_leaves\n",
      "1             150             4107835        20        20   20.00000       1430\n",
      "  max_leaves mean_leaves\n",
      "1       3273  2147.62670\n",
      "\n",
      "H2OMultinomialMetrics: drf\n",
      "** Reported on training data. **\n",
      "Description: Metrics reported on Out-Of-Bag training samples\n",
      "\n",
      "Training Set Metrics: \n",
      "=====================\n",
      "Metrics reported on Out-Of-Bag training samples \n",
      "\n",
      "Extract training frame with `h2o.getFrame(\"RTMP_38\")`\n",
      "MSE: (Extract with `h2o.mse`) 0.1691251\n",
      "R^2: (Extract with `h2o.r2`) 0.6310181\n",
      "Logloss: (Extract with `h2o.logloss`) 0.7048893\n",
      "Confusion Matrix: Extract with `h2o.confusionMatrix(<model>,train = TRUE)`)\n",
      "=========================================================================\n",
      "                        functional functional.needs.repair non.functional\n",
      "functional                   23041                     454            344\n",
      "functional needs repair       1971                    1060            104\n",
      "non functional                3150                     201            237\n",
      "Totals                       28162                    1715            685\n",
      "                             Error           Rate\n",
      "functional              0.03347456   798 / 23,839\n",
      "functional needs repair 0.66188198  2,075 / 3,135\n",
      "non functional          0.93394649  3,351 / 3,588\n",
      "Totals                  0.20365159 6,224 / 30,562\n",
      "\n",
      "Hit Ratio Table: Extract with `h2o.hit_ratio_table(<model>,train = TRUE)`\n",
      "=======================================================================\n",
      "Top-3 Hit Ratios: \n",
      "  k hit_ratio\n",
      "1 1  0.796348\n",
      "2 2  0.946960\n",
      "3 3  1.000000\n",
      "\n",
      "Test Set Metrics: \n",
      "=====================\n",
      "Metrics reported on Out-Of-Bag training samples \n",
      "\n",
      "MSE: (Extract with `h2o.mse`) 0.1691251\n",
      "R^2: (Extract with `h2o.r2`) 0.6310181\n",
      "Logloss: (Extract with `h2o.logloss`) 0.7048893\n",
      "Confusion Matrix: Extract with `h2o.confusionMatrix(<model>, <data>)`)\n",
      "=========================================================================\n",
      "                        functional functional.needs.repair non.functional\n",
      "functional                   23041                     454            344\n",
      "functional needs repair       1971                    1060            104\n",
      "non functional                3150                     201            237\n",
      "Totals                       28162                    1715            685\n",
      "                             Error           Rate\n",
      "functional              0.03347456   798 / 23,839\n",
      "functional needs repair 0.66188198  2,075 / 3,135\n",
      "non functional          0.93394649  3,351 / 3,588\n",
      "Totals                  0.20365159 6,224 / 30,562\n",
      "\n",
      "Hit Ratio Table: Extract with `h2o.hit_ratio_table(<model>, <data>)`\n",
      "=======================================================================\n",
      "Top-3 Hit Ratios: \n",
      "  k hit_ratio\n",
      "1 1  0.796348\n",
      "2 2  0.946960\n",
      "3 3  1.000000\n",
      "\n",
      "\n",
      "\n",
      "Scoring History: \n",
      "            timestamp   duration number_of_trees training_MSE training_logloss\n",
      "1 2016-01-08 16:29:40  0.181 sec               1      0.29909          8.57659\n",
      "2 2016-01-08 16:29:40  0.349 sec               2      0.26714          6.94405\n",
      "3 2016-01-08 16:29:40  0.520 sec               3      0.24892          5.89821\n",
      "4 2016-01-08 16:29:40  0.687 sec               4      0.23125          4.97064\n",
      "5 2016-01-08 16:29:41  0.845 sec               5      0.22097          4.36787\n",
      "  training_classification_error\n",
      "1                       0.25170\n",
      "2                       0.24685\n",
      "3                       0.24084\n",
      "4                       0.23508\n",
      "5                       0.23215\n",
      "\n",
      "---\n",
      "             timestamp   duration number_of_trees training_MSE training_logloss\n",
      "21 2016-01-08 16:29:43  3.405 sec              21      0.17445          1.18273\n",
      "22 2016-01-08 16:29:43  3.584 sec              22      0.17404          1.15129\n",
      "23 2016-01-08 16:29:43  3.747 sec              23      0.17350          1.10676\n",
      "24 2016-01-08 16:29:44  3.919 sec              24      0.17297          1.07200\n",
      "25 2016-01-08 16:29:48  7.986 sec              49      0.16917          0.70749\n",
      "26 2016-01-08 16:29:48  8.137 sec              50      0.16913          0.70489\n",
      "   training_classification_error\n",
      "21                       0.20926\n",
      "22                       0.20876\n",
      "23                       0.20846\n",
      "24                       0.20794\n",
      "25                       0.20378\n",
      "26                       0.20365\n",
      "\n",
      "Variable Importances: (Extract with `h2o.varimp`) \n",
      "=================================================\n",
      "\n",
      "Variable Importances: \n",
      "    variable relative_importance scaled_importance percentage\n",
      "1        lga        27112.164062          1.000000   0.139992\n",
      "2       ward        21455.509766          0.791361   0.110784\n",
      "3  longitude        13434.640625          0.495521   0.069369\n",
      "4   latitude        12938.428711          0.477219   0.066807\n",
      "5 gps_height        11599.124023          0.427820   0.059891\n",
      "\n",
      "---\n",
      "           variable relative_importance scaled_importance percentage\n",
      "28   public_meeting         1917.043701          0.070708   0.009899\n",
      "29           permit         1905.086548          0.070267   0.009837\n",
      "30    quality_group         1878.453613          0.069285   0.009699\n",
      "31 management_group         1551.971924          0.057243   0.008014\n",
      "32     source_class          982.783752          0.036249   0.005075\n",
      "33      num_private          374.430847          0.013810   0.001933\n"
     ]
    }
   ],
   "source": [
    "rfModel.functional.step2 <- h2o.randomForest(predictors, 'status_group', training.functionalgroup)\n",
    "summary(rfModel.functional.step2)"
   ]
  },
  {
   "cell_type": "code",
   "execution_count": 50,
   "metadata": {
    "collapsed": false
   },
   "outputs": [
    {
     "data": {
      "text/html": [
       "<table>\n",
       "<thead><tr><th></th><th scope=col>id</th><th scope=col>amount_tsh</th><th scope=col>date_recorded</th><th scope=col>funder</th><th scope=col>gps_height</th><th scope=col>installer</th><th scope=col>longitude</th><th scope=col>latitude</th><th scope=col>wpt_name</th><th scope=col>num_private</th><th scope=col>ellip.h</th><th scope=col>quantity</th><th scope=col>quantity_group</th><th scope=col>source</th><th scope=col>source_type</th><th scope=col>source_class</th><th scope=col>waterpoint_type</th><th scope=col>waterpoint_type_group</th><th scope=col>status_group</th><th scope=col>merged_status</th><th scope=col>predict</th></tr></thead>\n",
       "<tbody>\n",
       "\t<tr><th scope=row>1</th><td>8776</td><td>0</td><td>1.362528e+12</td><td>Grumeti</td><td>1399</td><td>GRUMETI</td><td>34.69877</td><td>-2.147466</td><td>Zahanati</td><td>0</td><td>⋯</td><td>insufficient</td><td>insufficient</td><td>rainwater harvesting</td><td>rainwater harvesting</td><td>surface</td><td>communal standpipe</td><td>communal standpipe</td><td>functional</td><td>functional</td><td>functional</td></tr>\n",
       "\t<tr><th scope=row>2</th><td>50409</td><td>200</td><td>1.361146e+12</td><td>Danida</td><td>1062</td><td>DANIDA</td><td>35.77026</td><td>-10.57417</td><td>Kwa Alid Nchimbi</td><td>0</td><td>⋯</td><td>insufficient</td><td>insufficient</td><td>shallow well</td><td>shallow well</td><td>groundwater</td><td>hand pump</td><td>hand pump</td><td>functional</td><td>functional</td><td>functional</td></tr>\n",
       "\t<tr><th scope=row>3</th><td>36957</td><td>0</td><td>1.350173e+12</td><td>World Vision</td><td>0</td><td>World vision</td><td>33.79811</td><td>-3.290194</td><td>Pamba</td><td>0</td><td>⋯</td><td>enough</td><td>enough</td><td>shallow well</td><td>shallow well</td><td>groundwater</td><td>hand pump</td><td>hand pump</td><td>functional</td><td>functional</td><td>functional</td></tr>\n",
       "\t<tr><th scope=row>4</th><td>34169</td><td>0</td><td>1.311293e+12</td><td>Hesawa</td><td>1162</td><td>DWE</td><td>32.92015</td><td>-1.947868</td><td>Ngomee</td><td>0</td><td>⋯</td><td>insufficient</td><td>insufficient</td><td>spring</td><td>spring</td><td>groundwater</td><td>other</td><td>other</td><td>functional needs repair</td><td>functional</td><td>functional</td></tr>\n",
       "\t<tr><th scope=row>5</th><td>18274</td><td>500</td><td>1.298333e+12</td><td>Danida</td><td>1763</td><td>Danid</td><td>34.50897</td><td>-9.894412</td><td>none</td><td>0</td><td>⋯</td><td>enough</td><td>enough</td><td>spring</td><td>spring</td><td>groundwater</td><td>communal standpipe</td><td>communal standpipe</td><td>functional</td><td>functional</td><td>functional</td></tr>\n",
       "\t<tr><th scope=row>6</th><td>41583</td><td>0</td><td>1.298419e+12</td><td>NA</td><td>-41</td><td>NA</td><td>39.81291</td><td>-7.889986</td><td>Msikitini Wa Ijumaa</td><td>0</td><td>⋯</td><td>enough</td><td>enough</td><td>shallow well</td><td>shallow well</td><td>groundwater</td><td>hand pump</td><td>hand pump</td><td>functional</td><td>functional</td><td>functional</td></tr>\n",
       "</tbody>\n",
       "</table>\n"
      ],
      "text/latex": [
       "\\begin{tabular}{r|lllllllllllllllllllllllllllllllllllllllllll}\n",
       "  & id & amount_tsh & date_recorded & funder & gps_height & installer & longitude & latitude & wpt_name & num_private & ellip.h & quantity & quantity_group & source & source_type & source_class & waterpoint_type & waterpoint_type_group & status_group & merged_status & predict\\\\\n",
       "\\hline\n",
       "\t1 & 8776 & 0 & 1.362528e+12 & Grumeti & 1399 & GRUMETI & 34.69877 & -2.147466 & Zahanati & 0 & ⋯ & insufficient & insufficient & rainwater harvesting & rainwater harvesting & surface & communal standpipe & communal standpipe & functional & functional & functional\\\\\n",
       "\t2 & 50409 & 200 & 1.361146e+12 & Danida & 1062 & DANIDA & 35.77026 & -10.57417 & Kwa Alid Nchimbi & 0 & ⋯ & insufficient & insufficient & shallow well & shallow well & groundwater & hand pump & hand pump & functional & functional & functional\\\\\n",
       "\t3 & 36957 & 0 & 1.350173e+12 & World Vision & 0 & World vision & 33.79811 & -3.290194 & Pamba & 0 & ⋯ & enough & enough & shallow well & shallow well & groundwater & hand pump & hand pump & functional & functional & functional\\\\\n",
       "\t4 & 34169 & 0 & 1.311293e+12 & Hesawa & 1162 & DWE & 32.92015 & -1.947868 & Ngomee & 0 & ⋯ & insufficient & insufficient & spring & spring & groundwater & other & other & functional needs repair & functional & functional\\\\\n",
       "\t5 & 18274 & 500 & 1.298333e+12 & Danida & 1763 & Danid & 34.50897 & -9.894412 & none & 0 & ⋯ & enough & enough & spring & spring & groundwater & communal standpipe & communal standpipe & functional & functional & functional\\\\\n",
       "\t6 & 41583 & 0 & 1.298419e+12 & NA & -41 & NA & 39.81291 & -7.889986 & Msikitini Wa Ijumaa & 0 & ⋯ & enough & enough & shallow well & shallow well & groundwater & hand pump & hand pump & functional & functional & functional\\\\\n",
       "\\end{tabular}\n"
      ],
      "text/plain": [
       "     id amount_tsh date_recorded       funder gps_height    installer longitude\n",
       "1  8776          0  1.362528e+12      Grumeti       1399      GRUMETI  34.69877\n",
       "2 50409        200  1.361146e+12       Danida       1062       DANIDA  35.77026\n",
       "3 36957          0  1.350173e+12 World Vision          0 World vision  33.79811\n",
       "4 34169          0  1.311293e+12       Hesawa       1162          DWE  32.92015\n",
       "5 18274        500  1.298333e+12       Danida       1763        Danid  34.50897\n",
       "6 41583          0  1.298419e+12         <NA>        -41         <NA>  39.81291\n",
       "    latitude            wpt_name num_private         basin   subvillage\n",
       "1  -2.147466            Zahanati           0 Lake Victoria      Nyamara\n",
       "2 -10.574175    Kwa Alid Nchimbi           0    Lake Nyasa Ngondombwito\n",
       "3  -3.290194               Pamba           0      Internal      Nkilifa\n",
       "4  -1.947868              Ngomee           0 Lake Victoria       Center\n",
       "5  -9.894412                none           0    Lake Nyasa     Manyanya\n",
       "6  -7.889986 Msikitini Wa Ijumaa           0        Rufiji  Kilombero B\n",
       "     region region_code district_code       lga     ward population\n",
       "1      Mara          20             2 Serengeti    Natta        280\n",
       "2    Ruvuma          10             5  Namtumbo   Msindo        250\n",
       "3 Shinyanga          17             2     Maswa Busilili          0\n",
       "4    Mwanza          19             1   Ukerewe Ilangala       1000\n",
       "5    Iringa          11             5    Ludewa  Mawengi          1\n",
       "6     Pwani          60            63     Mafia   Baleni        100\n",
       "  public_meeting             recorded_by scheme_management scheme_name permit\n",
       "1           <NA> GeoData Consultants Ltd             Other        <NA>   True\n",
       "2           True GeoData Consultants Ltd               WUG        <NA>  False\n",
       "3           True GeoData Consultants Ltd               WUG        <NA>  False\n",
       "4           <NA> GeoData Consultants Ltd              <NA>        <NA>   True\n",
       "5           True GeoData Consultants Ltd               VWC      Makanj   True\n",
       "6           True GeoData Consultants Ltd               VWC        <NA>  False\n",
       "  construction_year extraction_type extraction_type_group extraction_type_class\n",
       "1              2010         gravity               gravity               gravity\n",
       "2              1987          swn 80                swn 80              handpump\n",
       "3                 0     nira/tanira           nira/tanira              handpump\n",
       "4              1999           other                 other                 other\n",
       "5              1992         gravity               gravity               gravity\n",
       "6                 0     nira/tanira           nira/tanira              handpump\n",
       "  management management_group               payment payment_type water_quality\n",
       "1        wug       user-group             never pay    never pay          soft\n",
       "2        wug       user-group pay when scheme fails   on failure          soft\n",
       "3        wug       user-group                 other        other          soft\n",
       "4        vwc       user-group             never pay    never pay         milky\n",
       "5        vwc       user-group          pay annually     annually          soft\n",
       "6        vwc       user-group             never pay    never pay         salty\n",
       "  quality_group     quantity quantity_group               source\n",
       "1          good insufficient   insufficient rainwater harvesting\n",
       "2          good insufficient   insufficient         shallow well\n",
       "3          good       enough         enough         shallow well\n",
       "4         milky insufficient   insufficient               spring\n",
       "5          good       enough         enough               spring\n",
       "6         salty       enough         enough         shallow well\n",
       "           source_type source_class    waterpoint_type waterpoint_type_group\n",
       "1 rainwater harvesting      surface communal standpipe    communal standpipe\n",
       "2         shallow well  groundwater          hand pump             hand pump\n",
       "3         shallow well  groundwater          hand pump             hand pump\n",
       "4               spring  groundwater              other                 other\n",
       "5               spring  groundwater communal standpipe    communal standpipe\n",
       "6         shallow well  groundwater          hand pump             hand pump\n",
       "             status_group merged_status    predict\n",
       "1              functional    functional functional\n",
       "2              functional    functional functional\n",
       "3              functional    functional functional\n",
       "4 functional needs repair    functional functional\n",
       "5              functional    functional functional\n",
       "6              functional    functional functional"
      ]
     },
     "execution_count": 50,
     "metadata": {},
     "output_type": "execute_result"
    }
   ],
   "source": [
    "testing.step1 <- h2o.cbind(testing, as.factor(predict(modelRf, testing)$predict))\n",
    "testing.functionalgroup <- testing.step1[testing.step1$predict == 'functional',]\n",
    "testing.nonfunctionalgroup <- testing.step1[testing.step1$predict == 'non functional',]\n",
    "head(testing.functionalgroup)"
   ]
  },
  {
   "cell_type": "code",
   "execution_count": 51,
   "metadata": {
    "collapsed": false
   },
   "outputs": [
    {
     "data": {
      "text/plain": [
       "H2OMultinomialMetrics: drf\n",
       "\n",
       "Test Set Metrics: \n",
       "=====================\n",
       "\n",
       "MSE: (Extract with `h2o.mse`) 0.1885404\n",
       "R^2: (Extract with `h2o.r2`) 0.6690639\n",
       "Logloss: (Extract with `h2o.logloss`) 0.6323026\n",
       "Confusion Matrix: Extract with `h2o.confusionMatrix(<model>, <data>)`)\n",
       "=========================================================================\n",
       "                        functional functional.needs.repair non.functional\n",
       "functional                    7526                     117             71\n",
       "functional needs repair        632                     349             20\n",
       "non functional                1507                      86            103\n",
       "Totals                        9665                     552            194\n",
       "                             Error           Rate\n",
       "functional              0.02437127    188 / 7,714\n",
       "functional needs repair 0.65134865    652 / 1,001\n",
       "non functional          0.93926887  1,593 / 1,696\n",
       "Totals                  0.23369513 2,433 / 10,411\n",
       "\n",
       "Hit Ratio Table: Extract with `h2o.hit_ratio_table(<model>, <data>)`\n",
       "=======================================================================\n",
       "Top-3 Hit Ratios: \n",
       "  k hit_ratio\n",
       "1 1  0.766305\n",
       "2 2  0.942176\n",
       "3 3  1.000000\n"
      ]
     },
     "execution_count": 51,
     "metadata": {},
     "output_type": "execute_result"
    }
   ],
   "source": [
    "h2o.performance(rfModel.step2, testing.functionalgroup)"
   ]
  },
  {
   "cell_type": "code",
   "execution_count": 52,
   "metadata": {
    "collapsed": false
   },
   "outputs": [
    {
     "data": {
      "text/html": [
       "<ol class=list-inline>\n",
       "\t<li>'id'</li>\n",
       "\t<li>'amount_tsh'</li>\n",
       "\t<li>'date_recorded'</li>\n",
       "\t<li>'funder'</li>\n",
       "\t<li>'gps_height'</li>\n",
       "\t<li>'installer'</li>\n",
       "\t<li>'longitude'</li>\n",
       "\t<li>'latitude'</li>\n",
       "\t<li>'wpt_name'</li>\n",
       "\t<li>'num_private'</li>\n",
       "\t<li>'basin'</li>\n",
       "\t<li>'subvillage'</li>\n",
       "\t<li>'region'</li>\n",
       "\t<li>'region_code'</li>\n",
       "\t<li>'district_code'</li>\n",
       "\t<li>'lga'</li>\n",
       "\t<li>'ward'</li>\n",
       "\t<li>'population'</li>\n",
       "\t<li>'public_meeting'</li>\n",
       "\t<li>'recorded_by'</li>\n",
       "\t<li>'scheme_management'</li>\n",
       "\t<li>'scheme_name'</li>\n",
       "\t<li>'permit'</li>\n",
       "\t<li>'construction_year'</li>\n",
       "\t<li>'extraction_type'</li>\n",
       "\t<li>'extraction_type_group'</li>\n",
       "\t<li>'extraction_type_class'</li>\n",
       "\t<li>'management'</li>\n",
       "\t<li>'management_group'</li>\n",
       "\t<li>'payment'</li>\n",
       "\t<li>'payment_type'</li>\n",
       "\t<li>'water_quality'</li>\n",
       "\t<li>'quality_group'</li>\n",
       "\t<li>'quantity'</li>\n",
       "\t<li>'quantity_group'</li>\n",
       "\t<li>'source'</li>\n",
       "\t<li>'source_type'</li>\n",
       "\t<li>'source_class'</li>\n",
       "\t<li>'waterpoint_type'</li>\n",
       "\t<li>'waterpoint_type_group'</li>\n",
       "\t<li>'status_group'</li>\n",
       "\t<li>'merged_status'</li>\n",
       "\t<li>'predict'</li>\n",
       "</ol>\n"
      ],
      "text/latex": [
       "\\begin{enumerate*}\n",
       "\\item 'id'\n",
       "\\item 'amount_tsh'\n",
       "\\item 'date_recorded'\n",
       "\\item 'funder'\n",
       "\\item 'gps_height'\n",
       "\\item 'installer'\n",
       "\\item 'longitude'\n",
       "\\item 'latitude'\n",
       "\\item 'wpt_name'\n",
       "\\item 'num_private'\n",
       "\\item 'basin'\n",
       "\\item 'subvillage'\n",
       "\\item 'region'\n",
       "\\item 'region_code'\n",
       "\\item 'district_code'\n",
       "\\item 'lga'\n",
       "\\item 'ward'\n",
       "\\item 'population'\n",
       "\\item 'public_meeting'\n",
       "\\item 'recorded_by'\n",
       "\\item 'scheme_management'\n",
       "\\item 'scheme_name'\n",
       "\\item 'permit'\n",
       "\\item 'construction_year'\n",
       "\\item 'extraction_type'\n",
       "\\item 'extraction_type_group'\n",
       "\\item 'extraction_type_class'\n",
       "\\item 'management'\n",
       "\\item 'management_group'\n",
       "\\item 'payment'\n",
       "\\item 'payment_type'\n",
       "\\item 'water_quality'\n",
       "\\item 'quality_group'\n",
       "\\item 'quantity'\n",
       "\\item 'quantity_group'\n",
       "\\item 'source'\n",
       "\\item 'source_type'\n",
       "\\item 'source_class'\n",
       "\\item 'waterpoint_type'\n",
       "\\item 'waterpoint_type_group'\n",
       "\\item 'status_group'\n",
       "\\item 'merged_status'\n",
       "\\item 'predict'\n",
       "\\end{enumerate*}\n"
      ],
      "text/markdown": [
       "1. 'id'\n",
       "2. 'amount_tsh'\n",
       "3. 'date_recorded'\n",
       "4. 'funder'\n",
       "5. 'gps_height'\n",
       "6. 'installer'\n",
       "7. 'longitude'\n",
       "8. 'latitude'\n",
       "9. 'wpt_name'\n",
       "10. 'num_private'\n",
       "11. 'basin'\n",
       "12. 'subvillage'\n",
       "13. 'region'\n",
       "14. 'region_code'\n",
       "15. 'district_code'\n",
       "16. 'lga'\n",
       "17. 'ward'\n",
       "18. 'population'\n",
       "19. 'public_meeting'\n",
       "20. 'recorded_by'\n",
       "21. 'scheme_management'\n",
       "22. 'scheme_name'\n",
       "23. 'permit'\n",
       "24. 'construction_year'\n",
       "25. 'extraction_type'\n",
       "26. 'extraction_type_group'\n",
       "27. 'extraction_type_class'\n",
       "28. 'management'\n",
       "29. 'management_group'\n",
       "30. 'payment'\n",
       "31. 'payment_type'\n",
       "32. 'water_quality'\n",
       "33. 'quality_group'\n",
       "34. 'quantity'\n",
       "35. 'quantity_group'\n",
       "36. 'source'\n",
       "37. 'source_type'\n",
       "38. 'source_class'\n",
       "39. 'waterpoint_type'\n",
       "40. 'waterpoint_type_group'\n",
       "41. 'status_group'\n",
       "42. 'merged_status'\n",
       "43. 'predict'\n",
       "\n",
       "\n"
      ],
      "text/plain": [
       " [1] \"id\"                    \"amount_tsh\"            \"date_recorded\"        \n",
       " [4] \"funder\"                \"gps_height\"            \"installer\"            \n",
       " [7] \"longitude\"             \"latitude\"              \"wpt_name\"             \n",
       "[10] \"num_private\"           \"basin\"                 \"subvillage\"           \n",
       "[13] \"region\"                \"region_code\"           \"district_code\"        \n",
       "[16] \"lga\"                   \"ward\"                  \"population\"           \n",
       "[19] \"public_meeting\"        \"recorded_by\"           \"scheme_management\"    \n",
       "[22] \"scheme_name\"           \"permit\"                \"construction_year\"    \n",
       "[25] \"extraction_type\"       \"extraction_type_group\" \"extraction_type_class\"\n",
       "[28] \"management\"            \"management_group\"      \"payment\"              \n",
       "[31] \"payment_type\"          \"water_quality\"         \"quality_group\"        \n",
       "[34] \"quantity\"              \"quantity_group\"        \"source\"               \n",
       "[37] \"source_type\"           \"source_class\"          \"waterpoint_type\"      \n",
       "[40] \"waterpoint_type_group\" \"status_group\"          \"merged_status\"        \n",
       "[43] \"predict\"              "
      ]
     },
     "execution_count": 52,
     "metadata": {},
     "output_type": "execute_result"
    },
    {
     "data": {
      "text/html": [
       "43"
      ],
      "text/latex": [
       "43"
      ],
      "text/markdown": [
       "43"
      ],
      "text/plain": [
       "[1] 43"
      ]
     },
     "execution_count": 52,
     "metadata": {},
     "output_type": "execute_result"
    },
    {
     "data": {
      "text/html": [
       "<ol class=list-inline>\n",
       "\t<li>'id'</li>\n",
       "\t<li>'amount_tsh'</li>\n",
       "\t<li>'date_recorded'</li>\n",
       "\t<li>'funder'</li>\n",
       "\t<li>'gps_height'</li>\n",
       "\t<li>'installer'</li>\n",
       "\t<li>'longitude'</li>\n",
       "\t<li>'latitude'</li>\n",
       "\t<li>'wpt_name'</li>\n",
       "\t<li>'num_private'</li>\n",
       "\t<li>'basin'</li>\n",
       "\t<li>'subvillage'</li>\n",
       "\t<li>'region'</li>\n",
       "\t<li>'region_code'</li>\n",
       "\t<li>'district_code'</li>\n",
       "\t<li>'lga'</li>\n",
       "\t<li>'ward'</li>\n",
       "\t<li>'population'</li>\n",
       "\t<li>'public_meeting'</li>\n",
       "\t<li>'recorded_by'</li>\n",
       "\t<li>'scheme_management'</li>\n",
       "\t<li>'scheme_name'</li>\n",
       "\t<li>'permit'</li>\n",
       "\t<li>'construction_year'</li>\n",
       "\t<li>'extraction_type'</li>\n",
       "\t<li>'extraction_type_group'</li>\n",
       "\t<li>'extraction_type_class'</li>\n",
       "\t<li>'management'</li>\n",
       "\t<li>'management_group'</li>\n",
       "\t<li>'payment'</li>\n",
       "\t<li>'payment_type'</li>\n",
       "\t<li>'water_quality'</li>\n",
       "\t<li>'quality_group'</li>\n",
       "\t<li>'quantity'</li>\n",
       "\t<li>'quantity_group'</li>\n",
       "\t<li>'source'</li>\n",
       "\t<li>'source_type'</li>\n",
       "\t<li>'source_class'</li>\n",
       "\t<li>'waterpoint_type'</li>\n",
       "\t<li>'waterpoint_type_group'</li>\n",
       "\t<li>'status_group'</li>\n",
       "\t<li>'merged_status'</li>\n",
       "\t<li>'predict'</li>\n",
       "</ol>\n"
      ],
      "text/latex": [
       "\\begin{enumerate*}\n",
       "\\item 'id'\n",
       "\\item 'amount_tsh'\n",
       "\\item 'date_recorded'\n",
       "\\item 'funder'\n",
       "\\item 'gps_height'\n",
       "\\item 'installer'\n",
       "\\item 'longitude'\n",
       "\\item 'latitude'\n",
       "\\item 'wpt_name'\n",
       "\\item 'num_private'\n",
       "\\item 'basin'\n",
       "\\item 'subvillage'\n",
       "\\item 'region'\n",
       "\\item 'region_code'\n",
       "\\item 'district_code'\n",
       "\\item 'lga'\n",
       "\\item 'ward'\n",
       "\\item 'population'\n",
       "\\item 'public_meeting'\n",
       "\\item 'recorded_by'\n",
       "\\item 'scheme_management'\n",
       "\\item 'scheme_name'\n",
       "\\item 'permit'\n",
       "\\item 'construction_year'\n",
       "\\item 'extraction_type'\n",
       "\\item 'extraction_type_group'\n",
       "\\item 'extraction_type_class'\n",
       "\\item 'management'\n",
       "\\item 'management_group'\n",
       "\\item 'payment'\n",
       "\\item 'payment_type'\n",
       "\\item 'water_quality'\n",
       "\\item 'quality_group'\n",
       "\\item 'quantity'\n",
       "\\item 'quantity_group'\n",
       "\\item 'source'\n",
       "\\item 'source_type'\n",
       "\\item 'source_class'\n",
       "\\item 'waterpoint_type'\n",
       "\\item 'waterpoint_type_group'\n",
       "\\item 'status_group'\n",
       "\\item 'merged_status'\n",
       "\\item 'predict'\n",
       "\\end{enumerate*}\n"
      ],
      "text/markdown": [
       "1. 'id'\n",
       "2. 'amount_tsh'\n",
       "3. 'date_recorded'\n",
       "4. 'funder'\n",
       "5. 'gps_height'\n",
       "6. 'installer'\n",
       "7. 'longitude'\n",
       "8. 'latitude'\n",
       "9. 'wpt_name'\n",
       "10. 'num_private'\n",
       "11. 'basin'\n",
       "12. 'subvillage'\n",
       "13. 'region'\n",
       "14. 'region_code'\n",
       "15. 'district_code'\n",
       "16. 'lga'\n",
       "17. 'ward'\n",
       "18. 'population'\n",
       "19. 'public_meeting'\n",
       "20. 'recorded_by'\n",
       "21. 'scheme_management'\n",
       "22. 'scheme_name'\n",
       "23. 'permit'\n",
       "24. 'construction_year'\n",
       "25. 'extraction_type'\n",
       "26. 'extraction_type_group'\n",
       "27. 'extraction_type_class'\n",
       "28. 'management'\n",
       "29. 'management_group'\n",
       "30. 'payment'\n",
       "31. 'payment_type'\n",
       "32. 'water_quality'\n",
       "33. 'quality_group'\n",
       "34. 'quantity'\n",
       "35. 'quantity_group'\n",
       "36. 'source'\n",
       "37. 'source_type'\n",
       "38. 'source_class'\n",
       "39. 'waterpoint_type'\n",
       "40. 'waterpoint_type_group'\n",
       "41. 'status_group'\n",
       "42. 'merged_status'\n",
       "43. 'predict'\n",
       "\n",
       "\n"
      ],
      "text/plain": [
       " [1] \"id\"                    \"amount_tsh\"            \"date_recorded\"        \n",
       " [4] \"funder\"                \"gps_height\"            \"installer\"            \n",
       " [7] \"longitude\"             \"latitude\"              \"wpt_name\"             \n",
       "[10] \"num_private\"           \"basin\"                 \"subvillage\"           \n",
       "[13] \"region\"                \"region_code\"           \"district_code\"        \n",
       "[16] \"lga\"                   \"ward\"                  \"population\"           \n",
       "[19] \"public_meeting\"        \"recorded_by\"           \"scheme_management\"    \n",
       "[22] \"scheme_name\"           \"permit\"                \"construction_year\"    \n",
       "[25] \"extraction_type\"       \"extraction_type_group\" \"extraction_type_class\"\n",
       "[28] \"management\"            \"management_group\"      \"payment\"              \n",
       "[31] \"payment_type\"          \"water_quality\"         \"quality_group\"        \n",
       "[34] \"quantity\"              \"quantity_group\"        \"source\"               \n",
       "[37] \"source_type\"           \"source_class\"          \"waterpoint_type\"      \n",
       "[40] \"waterpoint_type_group\" \"status_group\"          \"merged_status\"        \n",
       "[43] \"predict\"              "
      ]
     },
     "execution_count": 52,
     "metadata": {},
     "output_type": "execute_result"
    },
    {
     "data": {
      "text/html": [
       "43"
      ],
      "text/latex": [
       "43"
      ],
      "text/markdown": [
       "43"
      ],
      "text/plain": [
       "[1] 43"
      ]
     },
     "execution_count": 52,
     "metadata": {},
     "output_type": "execute_result"
    }
   ],
   "source": [
    "colnames(testing.functionalgroup)\n",
    "ncol(testing.functionalgroup)\n",
    "colnames(testing.nonfunctionalgroup)\n",
    "ncol(testing.nonfunctionalgroup)"
   ]
  },
  {
   "cell_type": "code",
   "execution_count": 56,
   "metadata": {
    "collapsed": false
   },
   "outputs": [
    {
     "data": {
      "text/html": [
       "<table>\n",
       "<thead><tr><th></th><th scope=col>id</th><th scope=col>amount_tsh</th><th scope=col>date_recorded</th><th scope=col>funder</th><th scope=col>gps_height</th><th scope=col>installer</th><th scope=col>longitude</th><th scope=col>latitude</th><th scope=col>wpt_name</th><th scope=col>num_private</th><th scope=col>ellip.h</th><th scope=col>quantity</th><th scope=col>quantity_group</th><th scope=col>source</th><th scope=col>source_type</th><th scope=col>source_class</th><th scope=col>waterpoint_type</th><th scope=col>waterpoint_type_group</th><th scope=col>status_group</th><th scope=col>merged_status</th><th scope=col>predict</th></tr></thead>\n",
       "<tbody>\n",
       "\t<tr><th scope=row>1</th><td>8776</td><td>0</td><td>1.362528e+12</td><td>Grumeti</td><td>1399</td><td>GRUMETI</td><td>34.69877</td><td>-2.147466</td><td>Zahanati</td><td>0</td><td>⋯</td><td>insufficient</td><td>insufficient</td><td>rainwater harvesting</td><td>rainwater harvesting</td><td>surface</td><td>communal standpipe</td><td>communal standpipe</td><td>functional</td><td>functional</td><td>functional</td></tr>\n",
       "\t<tr><th scope=row>2</th><td>50409</td><td>200</td><td>1.361146e+12</td><td>Danida</td><td>1062</td><td>DANIDA</td><td>35.77026</td><td>-10.57417</td><td>Kwa Alid Nchimbi</td><td>0</td><td>⋯</td><td>insufficient</td><td>insufficient</td><td>shallow well</td><td>shallow well</td><td>groundwater</td><td>hand pump</td><td>hand pump</td><td>functional</td><td>functional</td><td>functional</td></tr>\n",
       "\t<tr><th scope=row>3</th><td>36957</td><td>0</td><td>1.350173e+12</td><td>World Vision</td><td>0</td><td>World vision</td><td>33.79811</td><td>-3.290194</td><td>Pamba</td><td>0</td><td>⋯</td><td>enough</td><td>enough</td><td>shallow well</td><td>shallow well</td><td>groundwater</td><td>hand pump</td><td>hand pump</td><td>functional</td><td>functional</td><td>functional</td></tr>\n",
       "\t<tr><th scope=row>4</th><td>34169</td><td>0</td><td>1.311293e+12</td><td>Hesawa</td><td>1162</td><td>DWE</td><td>32.92015</td><td>-1.947868</td><td>Ngomee</td><td>0</td><td>⋯</td><td>insufficient</td><td>insufficient</td><td>spring</td><td>spring</td><td>groundwater</td><td>other</td><td>other</td><td>functional needs repair</td><td>functional</td><td>functional needs repair</td></tr>\n",
       "\t<tr><th scope=row>5</th><td>18274</td><td>500</td><td>1.298333e+12</td><td>Danida</td><td>1763</td><td>Danid</td><td>34.50897</td><td>-9.894412</td><td>none</td><td>0</td><td>⋯</td><td>enough</td><td>enough</td><td>spring</td><td>spring</td><td>groundwater</td><td>communal standpipe</td><td>communal standpipe</td><td>functional</td><td>functional</td><td>functional</td></tr>\n",
       "\t<tr><th scope=row>6</th><td>41583</td><td>0</td><td>1.298419e+12</td><td>NA</td><td>-41</td><td>NA</td><td>39.81291</td><td>-7.889986</td><td>Msikitini Wa Ijumaa</td><td>0</td><td>⋯</td><td>enough</td><td>enough</td><td>shallow well</td><td>shallow well</td><td>groundwater</td><td>hand pump</td><td>hand pump</td><td>functional</td><td>functional</td><td>functional needs repair</td></tr>\n",
       "</tbody>\n",
       "</table>\n"
      ],
      "text/latex": [
       "\\begin{tabular}{r|lllllllllllllllllllllllllllllllllllllllllll}\n",
       "  & id & amount_tsh & date_recorded & funder & gps_height & installer & longitude & latitude & wpt_name & num_private & ellip.h & quantity & quantity_group & source & source_type & source_class & waterpoint_type & waterpoint_type_group & status_group & merged_status & predict\\\\\n",
       "\\hline\n",
       "\t1 & 8776 & 0 & 1.362528e+12 & Grumeti & 1399 & GRUMETI & 34.69877 & -2.147466 & Zahanati & 0 & ⋯ & insufficient & insufficient & rainwater harvesting & rainwater harvesting & surface & communal standpipe & communal standpipe & functional & functional & functional\\\\\n",
       "\t2 & 50409 & 200 & 1.361146e+12 & Danida & 1062 & DANIDA & 35.77026 & -10.57417 & Kwa Alid Nchimbi & 0 & ⋯ & insufficient & insufficient & shallow well & shallow well & groundwater & hand pump & hand pump & functional & functional & functional\\\\\n",
       "\t3 & 36957 & 0 & 1.350173e+12 & World Vision & 0 & World vision & 33.79811 & -3.290194 & Pamba & 0 & ⋯ & enough & enough & shallow well & shallow well & groundwater & hand pump & hand pump & functional & functional & functional\\\\\n",
       "\t4 & 34169 & 0 & 1.311293e+12 & Hesawa & 1162 & DWE & 32.92015 & -1.947868 & Ngomee & 0 & ⋯ & insufficient & insufficient & spring & spring & groundwater & other & other & functional needs repair & functional & functional needs repair\\\\\n",
       "\t5 & 18274 & 500 & 1.298333e+12 & Danida & 1763 & Danid & 34.50897 & -9.894412 & none & 0 & ⋯ & enough & enough & spring & spring & groundwater & communal standpipe & communal standpipe & functional & functional & functional\\\\\n",
       "\t6 & 41583 & 0 & 1.298419e+12 & NA & -41 & NA & 39.81291 & -7.889986 & Msikitini Wa Ijumaa & 0 & ⋯ & enough & enough & shallow well & shallow well & groundwater & hand pump & hand pump & functional & functional & functional needs repair\\\\\n",
       "\\end{tabular}\n"
      ],
      "text/plain": [
       "     id amount_tsh date_recorded       funder gps_height    installer longitude\n",
       "1  8776          0  1.362528e+12      Grumeti       1399      GRUMETI  34.69877\n",
       "2 50409        200  1.361146e+12       Danida       1062       DANIDA  35.77026\n",
       "3 36957          0  1.350173e+12 World Vision          0 World vision  33.79811\n",
       "4 34169          0  1.311293e+12       Hesawa       1162          DWE  32.92015\n",
       "5 18274        500  1.298333e+12       Danida       1763        Danid  34.50897\n",
       "6 41583          0  1.298419e+12         <NA>        -41         <NA>  39.81291\n",
       "    latitude            wpt_name num_private         basin   subvillage\n",
       "1  -2.147466            Zahanati           0 Lake Victoria      Nyamara\n",
       "2 -10.574175    Kwa Alid Nchimbi           0    Lake Nyasa Ngondombwito\n",
       "3  -3.290194               Pamba           0      Internal      Nkilifa\n",
       "4  -1.947868              Ngomee           0 Lake Victoria       Center\n",
       "5  -9.894412                none           0    Lake Nyasa     Manyanya\n",
       "6  -7.889986 Msikitini Wa Ijumaa           0        Rufiji  Kilombero B\n",
       "     region region_code district_code       lga     ward population\n",
       "1      Mara          20             2 Serengeti    Natta        280\n",
       "2    Ruvuma          10             5  Namtumbo   Msindo        250\n",
       "3 Shinyanga          17             2     Maswa Busilili          0\n",
       "4    Mwanza          19             1   Ukerewe Ilangala       1000\n",
       "5    Iringa          11             5    Ludewa  Mawengi          1\n",
       "6     Pwani          60            63     Mafia   Baleni        100\n",
       "  public_meeting             recorded_by scheme_management scheme_name permit\n",
       "1           <NA> GeoData Consultants Ltd             Other        <NA>   True\n",
       "2           True GeoData Consultants Ltd               WUG        <NA>  False\n",
       "3           True GeoData Consultants Ltd               WUG        <NA>  False\n",
       "4           <NA> GeoData Consultants Ltd              <NA>        <NA>   True\n",
       "5           True GeoData Consultants Ltd               VWC      Makanj   True\n",
       "6           True GeoData Consultants Ltd               VWC        <NA>  False\n",
       "  construction_year extraction_type extraction_type_group extraction_type_class\n",
       "1              2010         gravity               gravity               gravity\n",
       "2              1987          swn 80                swn 80              handpump\n",
       "3                 0     nira/tanira           nira/tanira              handpump\n",
       "4              1999           other                 other                 other\n",
       "5              1992         gravity               gravity               gravity\n",
       "6                 0     nira/tanira           nira/tanira              handpump\n",
       "  management management_group               payment payment_type water_quality\n",
       "1        wug       user-group             never pay    never pay          soft\n",
       "2        wug       user-group pay when scheme fails   on failure          soft\n",
       "3        wug       user-group                 other        other          soft\n",
       "4        vwc       user-group             never pay    never pay         milky\n",
       "5        vwc       user-group          pay annually     annually          soft\n",
       "6        vwc       user-group             never pay    never pay         salty\n",
       "  quality_group     quantity quantity_group               source\n",
       "1          good insufficient   insufficient rainwater harvesting\n",
       "2          good insufficient   insufficient         shallow well\n",
       "3          good       enough         enough         shallow well\n",
       "4         milky insufficient   insufficient               spring\n",
       "5          good       enough         enough               spring\n",
       "6         salty       enough         enough         shallow well\n",
       "           source_type source_class    waterpoint_type waterpoint_type_group\n",
       "1 rainwater harvesting      surface communal standpipe    communal standpipe\n",
       "2         shallow well  groundwater          hand pump             hand pump\n",
       "3         shallow well  groundwater          hand pump             hand pump\n",
       "4               spring  groundwater              other                 other\n",
       "5               spring  groundwater communal standpipe    communal standpipe\n",
       "6         shallow well  groundwater          hand pump             hand pump\n",
       "             status_group merged_status                 predict\n",
       "1              functional    functional              functional\n",
       "2              functional    functional              functional\n",
       "3              functional    functional              functional\n",
       "4 functional needs repair    functional functional needs repair\n",
       "5              functional    functional              functional\n",
       "6              functional    functional functional needs repair"
      ]
     },
     "execution_count": 56,
     "metadata": {},
     "output_type": "execute_result"
    }
   ],
   "source": [
    "library(magrittr)\n",
    "testings.preds <- testing.functionalgroup[,-43] %>% \n",
    "    h2o.cbind(., as.factor(predict(rfModel.functional.step2, testing.functionalgroup)$predict)) %>%\n",
    "    h2o.rbind(., testing.nonfunctionalgroup)\n",
    "head(testings.preds)"
   ]
  },
  {
   "cell_type": "code",
   "execution_count": 59,
   "metadata": {
    "collapsed": false
   },
   "outputs": [
    {
     "data": {
      "text/plain": [
       "                         \n",
       "                          functional functional needs repair non functional\n",
       "  functional                    7501                     141            450\n",
       "  functional needs repair        635                     343            121\n",
       "  non functional                1501                      89           4118"
      ]
     },
     "execution_count": 59,
     "metadata": {},
     "output_type": "execute_result"
    }
   ],
   "source": [
    "cm <- table(as.vector(testings.preds$status_group), as.vector(testings.preds$predict))\n",
    "cm"
   ]
  },
  {
   "cell_type": "code",
   "execution_count": 61,
   "metadata": {
    "collapsed": false
   },
   "outputs": [
    {
     "data": {
      "text/html": [
       "0.802872676018525"
      ],
      "text/latex": [
       "0.802872676018525"
      ],
      "text/markdown": [
       "0.802872676018525"
      ],
      "text/plain": [
       "[1] 0.8028727"
      ]
     },
     "execution_count": 61,
     "metadata": {},
     "output_type": "execute_result"
    },
    {
     "data": {
      "text/html": [
       "0.312101910828025"
      ],
      "text/latex": [
       "0.312101910828025"
      ],
      "text/markdown": [
       "0.312101910828025"
      ],
      "text/plain": [
       "[1] 0.3121019"
      ]
     },
     "execution_count": 61,
     "metadata": {},
     "output_type": "execute_result"
    }
   ],
   "source": [
    "sum(diag(cm)) / sum(cm)\n",
    "cm[2,2] / sum(cm[2,])"
   ]
  },
  {
   "cell_type": "markdown",
   "metadata": {},
   "source": [
    "Shutdown cluster:"
   ]
  },
  {
   "cell_type": "code",
   "execution_count": 16,
   "metadata": {
    "collapsed": true
   },
   "outputs": [],
   "source": [
    "h2o.shutdown(prompt = FALSE)"
   ]
  }
 ],
 "metadata": {
  "kernelspec": {
   "display_name": "R",
   "language": "R",
   "name": "ir"
  },
  "language_info": {
   "codemirror_mode": "r",
   "file_extension": ".r",
   "mimetype": "text/x-r-source",
   "name": "R",
   "pygments_lexer": "r",
   "version": "3.2.3"
  }
 },
 "nbformat": 4,
 "nbformat_minor": 0
}
